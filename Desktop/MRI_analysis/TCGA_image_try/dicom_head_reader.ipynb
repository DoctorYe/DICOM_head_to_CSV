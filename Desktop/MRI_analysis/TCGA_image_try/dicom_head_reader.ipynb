{
 "cells": [
  {
   "cell_type": "code",
   "execution_count": 1,
   "metadata": {
    "collapsed": true
   },
   "outputs": [],
   "source": [
    "import dicom"
   ]
  },
  {
   "cell_type": "code",
   "execution_count": 20,
   "metadata": {
    "collapsed": false
   },
   "outputs": [],
   "source": [
    "a=dicom.read_file('/Volumes/Seagate Backup Plus Drive/TCGA_MRI_survial/TCGA-08-0510/1.3.6.1.4.1.14519.5.2.1.7695.4001.908705038093871340852313648625/1.3.6.1.4.1.14519.5.2.1.7695.4001.208630687586140812333680115393/000000.dcm')"
   ]
  },
  {
   "cell_type": "code",
   "execution_count": 12,
   "metadata": {
    "collapsed": false
   },
   "outputs": [
    {
     "data": {
      "text/plain": [
       "(0008, 0005) Specific Character Set              CS: 'ISO_IR 100'\n",
       "(0008, 0008) Image Type                          CS: ['ORIGINAL', 'PRIMARY', 'OTHER']\n",
       "(0008, 0016) SOP Class UID                       UI: MR Image Storage\n",
       "(0008, 0018) SOP Instance UID                    UI: 1.3.6.1.4.1.14519.5.2.1.1706.4001.224702316967538749639650337415\n",
       "(0008, 0020) Study Date                          DA: '19970608'\n",
       "(0008, 0021) Series Date                         DA: '19970608'\n",
       "(0008, 0022) Acquisition Date                    DA: '19970608'\n",
       "(0008, 0023) Content Date                        DA: '19970608'\n",
       "(0008, 0030) Study Time                          TM: '090647'\n",
       "(0008, 0031) Series Time                         TM: '102152'\n",
       "(0008, 0032) Acquisition Time                    TM: '102152'\n",
       "(0008, 0033) Content Time                        TM: '102152'\n",
       "(0008, 0050) Accession Number                    SH: '2819497684894126'\n",
       "(0008, 0060) Modality                            CS: 'MR'\n",
       "(0008, 0070) Manufacturer                        LO: 'GE MEDICAL SYSTEMS'\n",
       "(0008, 0090) Referring Physician's Name          PN: ' '\n",
       "(0008, 1010) Station Name                        SH: ''\n",
       "(0008, 1030) Study Description                   LO: 'MRI, BRAIN W&W/O CONTRAMR'\n",
       "(0008, 1032)  Procedure Code Sequence   1 item(s) ---- \n",
       "   (0008, 0100) Code Value                          SH: '6500477'\n",
       "   (0008, 0104) Code Meaning                        LO: 'MRI, BRAIN W&W/O CONTRAST'\n",
       "   ---------\n",
       "(0008, 103e) Series Description                  LO: 'AX T1'\n",
       "(0008, 1090) Manufacturer's Model Name           LO: 'GENESIS_SIGNA'\n",
       "(0010, 0010) Patient's Name                      PN: ' '\n",
       "(0010, 0020) Patient ID                          LO: 'TCGA-02-0003'\n",
       "(0010, 0030) Patient's Birth Date                DA: ''\n",
       "(0010, 0040) Patient's Sex                       CS: 'M'\n",
       "(0010, 1010) Patient's Age                       AS: '050Y'\n",
       "(0010, 1030) Patient's Weight                    DS: '99.790000'\n",
       "(0010, 21b0) Additional Patient History          LT: 'L-TEMPOROPARIETAL TUMOR\\n'\n",
       "(0012, 0062) Patient Identity Removed            CS: 'YES'\n",
       "(0012, 0063) De-identification Method            LO: 'DCM:113100/113105/113107/113108/113109/113111'\n",
       "(0013, 0010) Private Creator                     LO: 'CTP'\n",
       "(0013, 1010) Private tag data                    UN: 'TCGA-GBM'\n",
       "(0013, 1013) Private tag data                    UN: '17064001'\n",
       "(0018, 0015) Body Part Examined                  CS: 'BRAIN'\n",
       "(0018, 0020) Scanning Sequence                   CS: 'SE'\n",
       "(0018, 0021) Sequence Variant                    CS: 'NONE'\n",
       "(0018, 0022) Scan Options                        CS: 'PFF'\n",
       "(0018, 0023) MR Acquisition Type                 CS: '2D'\n",
       "(0018, 0025) Angio Flag                          CS: 'N'\n",
       "(0018, 0050) Slice Thickness                     DS: '5.000000'\n",
       "(0018, 0080) Repetition Time                     DS: '533.332000'\n",
       "(0018, 0081) Echo Time                           DS: '8.000000'\n",
       "(0018, 0083) Number of Averages                  DS: '2.000000'\n",
       "(0018, 0084) Imaging Frequency                   DS: '638685370.00000'\n",
       "(0018, 0085) Imaged Nucleus                      SH: 'H1'\n",
       "(0018, 0086) Echo Number(s)                      IS: '1'\n",
       "(0018, 0087) Magnetic Field Strength             DS: '15000'\n",
       "(0018, 0088) Spacing Between Slices              DS: '6.500000'\n",
       "(0018, 0091) Echo Train Length                   IS: '0'\n",
       "(0018, 0093) Percent Sampling                    DS: '100.000000'\n",
       "(0018, 0094) Percent Phase Field of View         DS: '100.000000'\n",
       "(0018, 0095) Pixel Bandwidth                     DS: '125.000000'\n",
       "(0018, 1000) Device Serial Number                LO: '000000000330833'\n",
       "(0018, 1020) Software Version(s)                 LO: '08'\n",
       "(0018, 1050) Spatial Resolution                  DS: '1.562500'\n",
       "(0018, 1088) Heart Rate                          IS: '0'\n",
       "(0018, 1090) Cardiac Number of Images            IS: '0'\n",
       "(0018, 1094) Trigger Window                      IS: '0'\n",
       "(0018, 1100) Reconstruction Diameter             DS: '200.000000'\n",
       "(0018, 1250) Receive Coil Name                   SH: 'HiRes Brain PA'\n",
       "(0018, 1310) Acquisition Matrix                  US: [0, 256, 128, 0]\n",
       "(0018, 1312) In-plane Phase Encoding Direction   CS: 'ROW'\n",
       "(0018, 1314) Flip Angle                          DS: '90'\n",
       "(0018, 1315) Variable Flip Angle Flag            CS: 'N'\n",
       "(0018, 1316) SAR                                 DS: '1.959656'\n",
       "(0018, 5100) Patient Position                    CS: 'HFS'\n",
       "(0019, 10d9) Private tag data                    DS: '0.000000'\n",
       "(0019, 10df) Private tag data                    DS: '0.000000'\n",
       "(0019, 10e0) Private tag data                    DS: '0.000000'\n",
       "(0020, 000d) Study Instance UID                  UI: 1.3.6.1.4.1.14519.5.2.1.1706.4001.145725991542758792340793681239\n",
       "(0020, 000e) Series Instance UID                 UI: 1.3.6.1.4.1.14519.5.2.1.1706.4001.769579767788431533139923490444\n",
       "(0020, 0010) Study ID                            SH: ''\n",
       "(0020, 0011) Series Number                       IS: '12'\n",
       "(0020, 0012) Acquisition Number                  IS: '0'\n",
       "(0020, 0013) Instance Number                     IS: '7'\n",
       "(0020, 0032) Image Position (Patient)            DS: ['-100.000000', '-115.800003', '-28.100000']\n",
       "(0020, 0037) Image Orientation (Patient)         DS: ['1.000000', '0.000000', '0.000000', '0.000000', '1.000000', '0.000000']\n",
       "(0020, 0052) Frame of Reference UID              UI: 1.3.6.1.4.1.14519.5.2.1.1706.4001.286967510984756879056831672101\n",
       "(0020, 0060) Laterality                          CS: ''\n",
       "(0020, 0110) Temporal Resolution                 DS: '0'\n",
       "(0020, 1040) Position Reference Indicator        LO: 'NA'\n",
       "(0020, 1041) Slice Location                      DS: '-28.1000003815'\n",
       "(0021, 105a) Private tag data                    SL: 0\n",
       "(0028, 0002) Samples per Pixel                   US: 1\n",
       "(0028, 0004) Photometric Interpretation          CS: 'MONOCHROME2'\n",
       "(0028, 0010) Rows                                US: 256\n",
       "(0028, 0011) Columns                             US: 256\n",
       "(0028, 0030) Pixel Spacing                       DS: ['0.781250', '0.781250']\n",
       "(0028, 0100) Bits Allocated                      US: 16\n",
       "(0028, 0101) Bits Stored                         US: 16\n",
       "(0028, 0102) High Bit                            US: 15\n",
       "(0028, 0103) Pixel Representation                US: 1\n",
       "(0028, 0120) Pixel Padding Value                 SS: 0\n",
       "(0028, 0303) Longitudinal Temporal Information M SH: 'MODIFIED'\n",
       "(0028, 1050) Window Center                       DS: '1146'\n",
       "(0028, 1051) Window Width                        DS: '2293'\n",
       "(0040, 2016) Placer Order Number / Imaging Servi LO: ''\n",
       "(0040, 2017) Filler Order Number / Imaging Servi LO: ''\n",
       "(0040, a075) Verifying Observer Name             PN: 'Removed by CTP'\n",
       "(0040, a123) Person Name                         PN: 'Removed by CTP'\n",
       "(0043, 1039) Private tag data                    IS: ['0', '0', '0', '7']\n",
       "(0070, 0084) Content Creator's Name              PN: ' '\n",
       "(7fe0, 0010) Pixel Data                          OW: Array of 131072 bytes"
      ]
     },
     "execution_count": 12,
     "metadata": {},
     "output_type": "execute_result"
    }
   ],
   "source": [
    "a"
   ]
  },
  {
   "cell_type": "code",
   "execution_count": 17,
   "metadata": {
    "collapsed": false
   },
   "outputs": [],
   "source": [
    "#turn into list \n",
    "for key in a.dir():        \n",
    "    value = getattr(a, key, '')\n",
    "    if type(value) is dicom.UID.UID or key == \"PixelData\":\n",
    "        continue\n",
    "\n",
    "   "
   ]
  },
  {
   "cell_type": "code",
   "execution_count": 18,
   "metadata": {
    "collapsed": false
   },
   "outputs": [
    {
     "data": {
      "text/plain": [
       "'AX T1'"
      ]
     },
     "execution_count": 18,
     "metadata": {},
     "output_type": "execute_result"
    }
   ],
   "source": [
    "a.SeriesDescription"
   ]
  },
  {
   "cell_type": "markdown",
   "metadata": {},
   "source": [
    "# Read DICOM head information from DICOM file list \n",
    "use bash command:\n",
    "\n",
    "find /Volumes/Seagate\\ Backup\\ Plus\\ Drive/TCGA_MRI_survial -name '000000.dcm'>/Users/ningrongye/Desktop/MRI_analysis/TCGA_image_try/dicom_root.txt \n",
    "\n",
    "to write dicom file information(root)"
   ]
  },
  {
   "cell_type": "code",
   "execution_count": 112,
   "metadata": {
    "collapsed": false
   },
   "outputs": [
    {
     "data": {
      "text/plain": [
       "['/Volumes/Seagate Backup Plus Drive/TCGA_MRI_survial/TCGA-08-0510/1.3.6.1.4.1.14519.5.2.1.7695.4001.908705038093871340852313648625/1.3.6.1.4.1.14519.5.2.1.7695.4001.208630687586140812333680115393/000000.dcm']"
      ]
     },
     "execution_count": 112,
     "metadata": {},
     "output_type": "execute_result"
    }
   ],
   "source": [
    "string='/Volumes/Seagate Backup Plus Drive/TCGA_MRI_survial/TCGA-08-0510/1.3.6.1.4.1.14519.5.2.1.7695.4001.908705038093871340852313648625/1.3.6.1.4.1.14519.5.2.1.7695.4001.208630687586140812333680115393/000000.dcm/n'\n",
    "aaa=string.split('/n')\n",
    "del string.split('/n')[1]\n",
    "aaa"
   ]
  },
  {
   "cell_type": "code",
   "execution_count": 125,
   "metadata": {
    "collapsed": false
   },
   "outputs": [],
   "source": [
    "#version 1\n",
    "import dicom\n",
    "def dicom_head_reader(dicom_root):\n",
    "    with open(dicom_root) as f:\n",
    "        dicom_head_list=[]\n",
    "        dicom_position=[]  \n",
    "        for i in f.readlines():\n",
    "            sting_rm_n=i.strip() #rm /n in the end by using strip(); other way [s.strip() for s in list(f)]          \n",
    "            dicom_position.append(sting_rm_n)\n",
    "            a=dicom.read_file(sting_rm_n)\n",
    "            dicom_head_list.append(a)\n",
    "    dicom_head_postision_dict=dict(zip(dicom_position,dicom_head_list))      \n",
    "    return dicom_head_postision_dict"
   ]
  },
  {
   "cell_type": "code",
   "execution_count": 130,
   "metadata": {
    "collapsed": true
   },
   "outputs": [],
   "source": [
    "######don't use #######\n",
    "######version 2:fail and no use######\n",
    "#####direct problem:dict name is same not unique######\n",
    "import dicom\n",
    "def dicom_head_reader_2(dicom_root,tag_number_dict_key):#choose a tag id as dict key, such as (0010, 0020) patient ID,we can input as '0010,0020'\n",
    "    dict_key_list=[]\n",
    "    with open(dicom_root) as f:\n",
    "        dicom_position_and_head=[[i.strip(),dicom.read_file(i.strip())]  for i in f.readlines()]\n",
    "    for x,y in dicon_head_position:\n",
    "        dicom_tag=[str(j.tag).strip('\\\\(\\\\)').replace(', ', ',') for j in y.values()]\n",
    "        dict_key_index=dicom_tag.index(dict_key)\n",
    "        all_value_list=[str(j.value) for j in y.values()]\n",
    "        dict_key_value=all_value_list[dict_key_index]\n",
    "        dict_key_list.append(dict_key_value)\n",
    "    dicom_head_postision_dict=dict(zip(dict_key_list,dicom_position_and_head))      \n",
    "    return dicom_head_postision_dict"
   ]
  },
  {
   "cell_type": "code",
   "execution_count": 8,
   "metadata": {
    "collapsed": false
   },
   "outputs": [],
   "source": [
    "cc=dicom_head_reader('/Users/ningrongye/Desktop/MRI_analysis/TCGA_image_try/dicom_root.txt')"
   ]
  },
  {
   "cell_type": "code",
   "execution_count": 134,
   "metadata": {
    "collapsed": false,
    "scrolled": true
   },
   "outputs": [],
   "source": [
    "#dicom_head_dict_use=dicom_head_reader_2('/Users/ningrongye/Desktop/MRI_analysis/TCGA_image_try/dicom_root.txt','0010,0020')"
   ]
  },
  {
   "cell_type": "code",
   "execution_count": 92,
   "metadata": {
    "collapsed": false
   },
   "outputs": [
    {
     "data": {
      "text/plain": [
       "[(0018, 1000) Device Serial Number                LO: '0000000000001234',\n",
       " (0028, 0100) Bits Allocated                      US: 16,\n",
       " (0020, 1002) Images in Acquisition               IS: '23',\n",
       " (0028, 0103) Pixel Representation                US: 1,\n",
       " (0028, 0004) Photometric Interpretation          CS: 'MONOCHROME2',\n",
       " (0008, 0005) Specific Character Set              CS: 'ISO_IR 100',\n",
       " (0028, 0106) Smallest Image Pixel Value          SS: 0,\n",
       " (0028, 0101) Bits Stored                         US: 16,\n",
       " (0008, 0008) Image Type                          CS: ['ORIGINAL', 'PRIMARY', 'OTHER'],\n",
       " (0020, 000d) Study Instance UID                  UI: 1.3.6.1.4.1.14519.5.2.1.1706.4001.239251012204750851180008114061]"
      ]
     },
     "execution_count": 92,
     "metadata": {},
     "output_type": "execute_result"
    }
   ],
   "source": [
    "cc['/Volumes/Seagate Backup Plus Drive/TCGA_MRI_survial/TCGA-02-0068/1.3.6.1.4.1.14519.5.2.1.1706.4001.239251012204750851180008114061/1.3.6.1.4.1.14519.5.2.1.1706.4001.315917370181032422110045932284/000000.dcm'].values()[0:10]"
   ]
  },
  {
   "cell_type": "code",
   "execution_count": 9,
   "metadata": {
    "collapsed": false
   },
   "outputs": [],
   "source": [
    "import pickle\n",
    "def save_file(folder_file_name,var):\n",
    "    with open(folder_file_name, 'wb') as file2save:\n",
    "        pickle.dump(var, file2save)\n",
    "        \n",
    "def load_file(file_name):\n",
    "    with open(file_name, 'rb') as file2load:\n",
    "        return pickle.load(file2load)"
   ]
  },
  {
   "cell_type": "code",
   "execution_count": 10,
   "metadata": {
    "collapsed": false
   },
   "outputs": [],
   "source": [
    "save_file('/Users/ningrongye/Desktop/MRI_analysis/TCGA_image_try/dicom_dict_root_dicomhead.txt',var=cc)"
   ]
  },
  {
   "cell_type": "code",
   "execution_count": 11,
   "metadata": {
    "collapsed": false
   },
   "outputs": [],
   "source": [
    "cc=load_file('/Users/ningrongye/Desktop/MRI_analysis/TCGA_image_try/dicom_dict_root_dicomhead.txt')"
   ]
  },
  {
   "cell_type": "code",
   "execution_count": 89,
   "metadata": {
    "collapsed": false,
    "scrolled": true
   },
   "outputs": [
    {
     "data": {
      "text/plain": [
       "['AcquisitionDate',\n",
       " 'AcquisitionMatrix',\n",
       " 'AcquisitionNumber',\n",
       " 'AcquisitionTime',\n",
       " 'AdditionalPatientHistory',\n",
       " 'AngioFlag',\n",
       " 'BitsAllocated',\n",
       " 'BitsStored',\n",
       " 'BodyPartExamined']"
      ]
     },
     "execution_count": 89,
     "metadata": {},
     "output_type": "execute_result"
    }
   ],
   "source": [
    "cc['/Volumes/Seagate Backup Plus Drive/TCGA_MRI_survial/TCGA-02-0068/1.3.6.1.4.1.14519.5.2.1.1706.4001.239251012204750851180008114061/1.3.6.1.4.1.14519.5.2.1.1706.4001.315917370181032422110045932284/000000.dcm'].dir()[1:10]"
   ]
  },
  {
   "cell_type": "code",
   "execution_count": 67,
   "metadata": {
    "collapsed": false
   },
   "outputs": [
    {
     "data": {
      "text/plain": [
       "['SeriesDate',\n",
       " 'SeriesDescription',\n",
       " 'SeriesInstanceUID',\n",
       " 'SeriesNumber',\n",
       " 'SeriesTime']"
      ]
     },
     "execution_count": 67,
     "metadata": {},
     "output_type": "execute_result"
    }
   ],
   "source": [
    "cc['/Volumes/Seagate Backup Plus Drive/TCGA_MRI_survial/TCGA-02-0068/1.3.6.1.4.1.14519.5.2.1.1706.4001.239251012204750851180008114061/1.3.6.1.4.1.14519.5.2.1.1706.4001.315917370181032422110045932284/000000.dcm'].dir('Series')"
   ]
  },
  {
   "cell_type": "code",
   "execution_count": 136,
   "metadata": {
    "collapsed": false
   },
   "outputs": [],
   "source": [
    "a=cc['/Volumes/Seagate Backup Plus Drive/TCGA_MRI_survial/TCGA-02-0068/1.3.6.1.4.1.14519.5.2.1.1706.4001.239251012204750851180008114061/1.3.6.1.4.1.14519.5.2.1.1706.4001.315917370181032422110045932284/000000.dcm']"
   ]
  },
  {
   "cell_type": "code",
   "execution_count": 137,
   "metadata": {
    "collapsed": false
   },
   "outputs": [
    {
     "data": {
      "text/plain": [
       "'0028, 0100'"
      ]
     },
     "execution_count": 137,
     "metadata": {},
     "output_type": "execute_result"
    }
   ],
   "source": [
    "str(a.values()[1].tag).strip('\\\\(\\\\)')    #remove ()"
   ]
  },
  {
   "cell_type": "code",
   "execution_count": 138,
   "metadata": {
    "collapsed": false
   },
   "outputs": [
    {
     "data": {
      "text/plain": [
       "False"
      ]
     },
     "execution_count": 138,
     "metadata": {},
     "output_type": "execute_result"
    }
   ],
   "source": [
    "'0028, 0120' in d.keys()"
   ]
  },
  {
   "cell_type": "code",
   "execution_count": 139,
   "metadata": {
    "collapsed": false
   },
   "outputs": [
    {
     "data": {
      "text/plain": [
       "'0028,0120'"
      ]
     },
     "execution_count": 139,
     "metadata": {},
     "output_type": "execute_result"
    }
   ],
   "source": [
    "'0028, 0120' .replace(', ', ',')"
   ]
  },
  {
   "cell_type": "code",
   "execution_count": 140,
   "metadata": {
    "collapsed": false
   },
   "outputs": [
    {
     "data": {
      "text/plain": [
       "(False, True)"
      ]
     },
     "execution_count": 140,
     "metadata": {},
     "output_type": "execute_result"
    }
   ],
   "source": [
    "\n",
    "'82' in '0028, 0120','28' in '0028, 0120'#can't use '2'|'9' in string"
   ]
  },
  {
   "cell_type": "code",
   "execution_count": 88,
   "metadata": {
    "collapsed": false
   },
   "outputs": [
    {
     "name": "stdout",
     "output_type": "stream",
     "text": [
      "0020,000d BodyPartExamined\n",
      "0018,0093 SeriesDescription\n",
      "0018,0091 SeriesDate\n",
      "0018,0095 SeriesNumber\n",
      "0018,0094 SeriesInstanceUID\n",
      "0020,0037 Laterality\n",
      "0028,0030 SliceLocation\n",
      "0018,0050 WindowWidth\n",
      "0020,1040 SmallestImagePixelValue\n"
     ]
    }
   ],
   "source": [
    "b=[str(x.tag).strip('\\\\(\\\\)').replace(', ', ',') for x in a.values()]\n",
    "#c=[x.split() for x in a.dir()] #turn string into list\n",
    "c=a.dir()\n",
    "d=dict(zip(b,c)) \n",
    "###show first 10 dict\n",
    "for i in d.keys()[1:10]:\n",
    "    print i,d[i] "
   ]
  },
  {
   "cell_type": "code",
   "execution_count": 113,
   "metadata": {
    "collapsed": false
   },
   "outputs": [
    {
     "data": {
      "text/plain": [
       "78"
      ]
     },
     "execution_count": 113,
     "metadata": {},
     "output_type": "execute_result"
    }
   ],
   "source": [
    "b.index('0018,0093')"
   ]
  },
  {
   "cell_type": "code",
   "execution_count": 114,
   "metadata": {
    "collapsed": false
   },
   "outputs": [
    {
     "data": {
      "text/plain": [
       "'SeriesDescription'"
      ]
     },
     "execution_count": 114,
     "metadata": {},
     "output_type": "execute_result"
    }
   ],
   "source": [
    "a.dir()[78]"
   ]
  },
  {
   "cell_type": "code",
   "execution_count": 115,
   "metadata": {
    "collapsed": false
   },
   "outputs": [
    {
     "data": {
      "text/plain": [
       "'SeriesDescription'"
      ]
     },
     "execution_count": 115,
     "metadata": {},
     "output_type": "execute_result"
    }
   ],
   "source": [
    "a.dir()[b.index('0018,0093')]"
   ]
  },
  {
   "cell_type": "code",
   "execution_count": 116,
   "metadata": {
    "collapsed": true
   },
   "outputs": [],
   "source": [
    "a_values=a.values()"
   ]
  },
  {
   "cell_type": "code",
   "execution_count": 122,
   "metadata": {
    "collapsed": false
   },
   "outputs": [
    {
     "data": {
      "text/plain": [
       "((0028, 0100) Bits Allocated                      US: 16, 16)"
      ]
     },
     "execution_count": 122,
     "metadata": {},
     "output_type": "execute_result"
    }
   ],
   "source": [
    "a_values_1=a_values[1]\n",
    "a_values_1,a_values_1.value"
   ]
  },
  {
   "cell_type": "markdown",
   "metadata": {},
   "source": [
    "# extract special dicom head in to excel\n"
   ]
  },
  {
   "cell_type": "code",
   "execution_count": 340,
   "metadata": {
    "collapsed": false
   },
   "outputs": [],
   "source": [
    "def dicom_head_extra(list_of_dicom_tag,dicom_dict):\n",
    "    list_of_dicom_tag_value_all={}\n",
    "    for i in dicom_dict.keys():\n",
    "        list_of_dicom_tag_value_i=[]\n",
    "        dicom_i=dicom_dict[i]\n",
    "        dicom_tag=[str(k.tag).strip('\\\\(\\\\)').replace(', ', ',') for k in dicom_i.values()]\n",
    "        all_value_list=[str(k.value).replace(',', '/').replace(\"'\",\"\") for k in dicom_i.values()]\n",
    "        for j in list_of_dicom_tag:\n",
    "                if j in dicom_tag:\n",
    "                    dicom_tag_index= dicom_tag.index(j)\n",
    "                    list_of_dicom_tag_value_i.append(all_value_list[dicom_tag_index])\n",
    "                else:\n",
    "                    list_of_dicom_tag_value_i.append('NA')            \n",
    "        list_of_dicom_tag_value_all[i]=list_of_dicom_tag_value_i  \n",
    "    #dict_all=dict(zip(dicom_dict.keys(),list_of_dicom_tag_value_all))\n",
    "    return  list_of_dicom_tag_value_all   "
   ]
  },
  {
   "cell_type": "code",
   "execution_count": 294,
   "metadata": {
    "collapsed": false
   },
   "outputs": [
    {
     "data": {
      "text/plain": [
       "(27, 27)"
      ]
     },
     "execution_count": 294,
     "metadata": {},
     "output_type": "execute_result"
    }
   ],
   "source": [
    "TCGA_dicom_tag_list=['0008,0020','0008,0050','0008,0070','0008,1030','0008,103e','0010,0020','0010,0040','0010,1010','0010,1030','0010,21b0','0018,0023','0018,0025','0018,0050','0018,0080','0018,0081','0018,0082','0018,0083','0018,0084','0018,0087','0018,0088','0018,1310','0018,1314','0020,0032','0020,0037','0028,0010','0028,0011','0028,0030']\n",
    "TCGA_dicom_tag_name_list=['Study_Date','Accession_Number','Accession_Number','Study_Description','Series_Description','Patient_ID','sex','age','weight','Additional_Patient_History','MR_Acquisition_Type','angio_flag','Thickness','Repetition_Time','Echo_time','Inversion_time','Number_of_Averages','Imaging Frequency','Magnetic_Field_Strength','Spacing_Between_Slices','Acquisition_Matrix','Flip_Angle','Patient_Position','Patient_Orientation','Row','Columns','Pixel_spacing']\n",
    "len(TCGA_dicom_tag_list),len(TCGA_dicom_tag_name_list)\n"
   ]
  },
  {
   "cell_type": "code",
   "execution_count": 202,
   "metadata": {
    "collapsed": false
   },
   "outputs": [
    {
     "data": {
      "text/plain": [
       "['/Volumes/Seagate Backup Plus Drive/TCGA_MRI_survial/TCGA-14-1823/1.3.6.1.4.1.14519.5.2.1.2783.4001.155746723517670759465921047585/1.3.6.1.4.1.14519.5.2.1.2783.4001.125919080258269691235052505297/000000.dcm',\n",
       " '/Volumes/Seagate Backup Plus Drive/TCGA_MRI_survial/TCGA-02-0068/1.3.6.1.4.1.14519.5.2.1.1706.4001.239251012204750851180008114061/1.3.6.1.4.1.14519.5.2.1.1706.4001.315917370181032422110045932284/000000.dcm']"
      ]
     },
     "execution_count": 202,
     "metadata": {},
     "output_type": "execute_result"
    }
   ],
   "source": [
    "try_dict={}\n",
    "for i in cc.keys()[0:2]:\n",
    "    try_dict[i]=cc[i]\n",
    "try_dict.keys()"
   ]
  },
  {
   "cell_type": "code",
   "execution_count": 397,
   "metadata": {
    "collapsed": false
   },
   "outputs": [],
   "source": [
    "#TCGA_dicom_head_use=dicom_head_extra(dicom_dict=try_dict,list_of_dicom_tag=TCGA_dicom_tag_list)\n",
    "TCGA_dicom_head_use=dicom_head_extra(dicom_dict=cc,list_of_dicom_tag=TCGA_dicom_tag_list)"
   ]
  },
  {
   "cell_type": "code",
   "execution_count": 245,
   "metadata": {
    "collapsed": false
   },
   "outputs": [
    {
     "data": {
      "text/plain": [
       "(5113, 5113)"
      ]
     },
     "execution_count": 245,
     "metadata": {},
     "output_type": "execute_result"
    }
   ],
   "source": [
    "len(TCGA_dicom_head_use.keys()),len(cc.keys())"
   ]
  },
  {
   "cell_type": "code",
   "execution_count": 246,
   "metadata": {
    "collapsed": false
   },
   "outputs": [
    {
     "data": {
      "text/plain": [
       "(27, 27)"
      ]
     },
     "execution_count": 246,
     "metadata": {},
     "output_type": "execute_result"
    }
   ],
   "source": [
    "len(TCGA_dicom_head_use[TCGA_dicom_head_use.keys()[1111]]),len(TCGA_dicom_head_use[TCGA_dicom_head_use.keys()[11]])"
   ]
  },
  {
   "cell_type": "code",
   "execution_count": 319,
   "metadata": {
    "collapsed": false
   },
   "outputs": [],
   "source": [
    "import csv\n",
    "\n",
    "#with open('/Users/ningrongye/Desktop/MRI_analysis/TCGA_image_try/eggs.csv', 'w') as csvfile:\n",
    "with open('/Users/ningrongye/Desktop/MRI_analysis/TCGA_image_try/a.csv', 'w') as csvfile:\n",
    "    fieldnames = ['first_name', 'last_name']\n",
    "    writer = csv.DictWriter(csvfile, fieldnames=fieldnames)\n",
    "\n",
    "    writer.writeheader()\n",
    "    writer.writerow({'first_name': 'Baked', 'last_name': 'Beans'})\n",
    "    writer.writerow({'first_name': 'Lovely', 'last_name': 'Spam'})\n",
    "    writer.writerow({'first_name': 'Wonderful', 'last_name': 'Spam'})"
   ]
  },
  {
   "cell_type": "code",
   "execution_count": 399,
   "metadata": {
    "collapsed": false
   },
   "outputs": [
    {
     "data": {
      "text/plain": [
       "[('/Volumes/Seagate Backup Plus Drive/TCGA_MRI_survial/TCGA-08-0389/1.3.6.1.4.1.14519.5.2.1.7695.4001.155576204150333185525274253431/1.3.6.1.4.1.14519.5.2.1.7695.4001.898120371300749852808668825214/000000.dcm',\n",
       "  ['20030725',\n",
       "   '1746145767942571',\n",
       "   'GE MEDICAL SYSTEMS',\n",
       "   'MSTEALTH',\n",
       "   '3D FSE AXIAL',\n",
       "   'TCGA-08-0389',\n",
       "   'M ',\n",
       "   '059Y',\n",
       "   '70.307',\n",
       "   'NA',\n",
       "   '3D',\n",
       "   'N ',\n",
       "   '1.5 ',\n",
       "   '3000',\n",
       "   '104.256 ',\n",
       "   '0 ',\n",
       "   '1 ',\n",
       "   '63.829227 ',\n",
       "   '1.5 ',\n",
       "   '1.5 ',\n",
       "   '\\x00\\x00\\x00\\x01\\xa0\\x00\\x00\\x00',\n",
       "   '90',\n",
       "   '-129.492\\\\-171.225\\\\-79.1618',\n",
       "   '1\\\\-0\\\\0\\\\-0\\\\1\\\\0 ',\n",
       "   '\\x00\\x01',\n",
       "   '\\x00\\x01',\n",
       "   '1.01562\\\\1.01562 ']),\n",
       " ('/Volumes/Seagate Backup Plus Drive/TCGA_MRI_survial/TCGA-06-0188/1.3.6.1.4.1.14519.5.2.1.4591.4001.838461762397324734304102514637/1.3.6.1.4.1.14519.5.2.1.4591.4001.125429918547954279115922007417/000000.dcm',\n",
       "  ['20070221',\n",
       "   '3367754116544288',\n",
       "   '',\n",
       "   '',\n",
       "   'dADC',\n",
       "   'TCGA-06-0188',\n",
       "   'M',\n",
       "   '',\n",
       "   '',\n",
       "   'NA',\n",
       "   '2D',\n",
       "   'NA',\n",
       "   '5',\n",
       "   '3491.81494140625',\n",
       "   '84',\n",
       "   'NA',\n",
       "   '2',\n",
       "   '63.896817',\n",
       "   '1.5',\n",
       "   '6',\n",
       "   '[160/ 0/ 0/ 125]',\n",
       "   '90',\n",
       "   '[-123.84506123738/ -124.79124189839/ -60.479165997356]',\n",
       "   '[0.99999994039535/ -1.217803514E-06/ -0.0003642883384/ 6.9683432002E-07/ 0.99999898672103/ -0.0014300978509]',\n",
       "   '160',\n",
       "   '160',\n",
       "   '[1.5/ 1.5]'])]"
      ]
     },
     "execution_count": 399,
     "metadata": {},
     "output_type": "execute_result"
    }
   ],
   "source": [
    "try_dict_write={}\n",
    "for i in TCGA_dicom_head_use.keys()[10:12]:\n",
    "    try_dict_write[i]=TCGA_dicom_head_use[i]\n",
    "try_dict_write.keys()\n",
    "try_dict_write.items()\n"
   ]
  },
  {
   "cell_type": "code",
   "execution_count": 393,
   "metadata": {
    "collapsed": false
   },
   "outputs": [],
   "source": [
    "import csv\n",
    "def dict_csv_writer(file_path_file_name,my_dict):\n",
    "    with open(file_path_file_name, 'wb') as csvfile:\n",
    "        writer = csv.writer(csvfile, delimiter=',', quotechar='\"', quoting=csv.QUOTE_MINIMAL, lineterminator='\\n')\n",
    "        writer.writerows(my_dict.items())"
   ]
  },
  {
   "cell_type": "code",
   "execution_count": 395,
   "metadata": {
    "collapsed": false
   },
   "outputs": [],
   "source": [
    "dict_csv_writer(my_dict=try_dict_write,file_path_file_name='/Users/ningrongye/Desktop/MRI_analysis/TCGA_image_try/try_dict_write.csv')"
   ]
  },
  {
   "cell_type": "code",
   "execution_count": 398,
   "metadata": {
    "collapsed": true
   },
   "outputs": [],
   "source": [
    "dict_csv_writer(my_dict=TCGA_dicom_head_use,file_path_file_name='/Users/ningrongye/Desktop/MRI_analysis/TCGA_image_try/TCGA_dicom_head_use.csv')"
   ]
  }
 ]
} 
